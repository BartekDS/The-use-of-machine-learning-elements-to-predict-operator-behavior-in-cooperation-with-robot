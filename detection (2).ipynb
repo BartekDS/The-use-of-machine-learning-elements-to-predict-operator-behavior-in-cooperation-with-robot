{
 "cells": [
  {
   "cell_type": "code",
   "execution_count": 1,
   "id": "0f1f796c",
   "metadata": {},
   "outputs": [],
   "source": [
    "import numpy as np\n",
    "import pandas as pd\n",
    "import cv2\n",
    "import os"
   ]
  },
  {
   "cell_type": "code",
   "execution_count": 2,
   "id": "939e78b1",
   "metadata": {},
   "outputs": [],
   "source": [
    "def find_coords(img, path):\n",
    "    \n",
    "    img1 = dirname_1+\"\\\\\"+img\n",
    "    image = cv2.imread(img1)\n",
    "    cropped_img = image[765:3598, 1008:2770]\n",
    "    \n",
    "    # wyskalowanie zdjęć\n",
    "    scale_percent = 30\n",
    "    width = int(cropped_img.shape[1] * scale_percent / 100)\n",
    "    height = int(cropped_img.shape[0] * scale_percent / 100)\n",
    "    size = (width, height)\n",
    "    resized = cv2.resize(cropped_img, size)\n",
    "    \n",
    "    # przygotowanie do detekcji\n",
    "    gray_resized = cv2.cvtColor(resized, cv2.COLOR_BGR2GRAY)\n",
    "    blured_gray_resized = cv2.medianBlur(gray_resized, 5)\n",
    "    \n",
    "    # detekcja okręgów\n",
    "    circles = cv2.HoughCircles(blured_gray_resized,cv2.HOUGH_GRADIENT, 1.1, minDist=150, param1=50, param2=30, minRadius=1, maxRadius=22)\n",
    "\n",
    "    # rysowanie wykrytego okręgu oraz jego punktu centralnego\n",
    "    circles = np.uint16(np.around(circles))\n",
    "    for i in circles[0, :]:\n",
    "        cv2.circle(resized,(i[0], i[1]), i[2], (0,255,0), 2)\n",
    "        cv2.circle(resized,(i[0], i[1]), 0, (0,0,255), -1)\n",
    "    \n",
    "    pixel_x = i[1]\n",
    "    pixel_y = i[0]\n",
    "    \n",
    "    coord_x = 845 - pixel_x\n",
    "    coord_y = 526 - pixel_y\n",
    "    \n",
    "    ratio = round(849/370, 2)\n",
    "    \n",
    "    coord_x /= ratio\n",
    "    coord_y /= ratio\n",
    "    \n",
    "    x = img.split(\".\")\n",
    "    i = x[0]\n",
    "\n",
    "    \n",
    "    \n",
    "    coordinates = {\"Nr obserwacji\": int(i),\"X\": round(coord_x, 0), \"Y\": round(coord_y, 0)}\n",
    "    coordinates = pd.Series(data=coordinates)\n",
    "    \n",
    "    cv2.imwrite(f\"C:\\\\Users\\\\stadn\\\\Desktop\\\\_robot_dane_operator\\\\operatorzy_wykryte\\\\{img}\", resized)\n",
    "    \n",
    "    return coordinates"
   ]
  },
  {
   "cell_type": "code",
   "execution_count": null,
   "id": "da4b017b",
   "metadata": {},
   "outputs": [],
   "source": [
    "for i in range(1, 6):\n",
    "    dirname_1 = \"C:\\\\Users\\\\stadn\\\\Desktop\\\\_robot_dane_operator\\\\operator\"\n",
    "    results = pd.DataFrame()\n",
    "    dirname_1 += str(i)\n",
    "    for img in os.listdir(dirname_1):\n",
    "        find_coords(img, dirname_1)\n",
    "        results = results.append(find_coords(img, dirname_1), ignore_index=True)\n",
    "\n",
    "    results = results.set_index(\"Nr obserwacji\")\n",
    "    results = results.sort_values(by=\"Nr obserwacji\")\n",
    "    results.to_excel(f\"C:\\\\Users\\\\stadn\\\\Desktop\\\\_robot_dane_operator\\\\results{i}.xlsx\")\n",
    "    "
   ]
  }
 ],
 "metadata": {
  "kernelspec": {
   "display_name": "Python 3 (ipykernel)",
   "language": "python",
   "name": "python3"
  },
  "language_info": {
   "codemirror_mode": {
    "name": "ipython",
    "version": 3
   },
   "file_extension": ".py",
   "mimetype": "text/x-python",
   "name": "python",
   "nbconvert_exporter": "python",
   "pygments_lexer": "ipython3",
   "version": "3.9.13"
  }
 },
 "nbformat": 4,
 "nbformat_minor": 5
}
