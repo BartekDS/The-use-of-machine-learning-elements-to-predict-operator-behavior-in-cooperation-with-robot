{
 "cells": [
  {
   "cell_type": "code",
   "execution_count": 6,
   "id": "f2310d0a",
   "metadata": {},
   "outputs": [],
   "source": [
    "import numpy as np\n",
    "import pandas as pd\n",
    "import matplotlib.pyplot as plt\n",
    "import seaborn as sns\n",
    "import cv2\n",
    "from sklearn.preprocessing import PolynomialFeatures, StandardScaler\n",
    "from sklearn.linear_model import LinearRegression\n",
    "from sklearn.svm import SVR\n",
    "from sklearn.metrics import mean_squared_error\n",
    "from sklearn.model_selection import train_test_split"
   ]
  },
  {
   "cell_type": "code",
   "execution_count": 7,
   "id": "a7f49052",
   "metadata": {},
   "outputs": [],
   "source": [
    "df = pd.read_excel(\"C:\\\\Users\\\\stadn\\\\Desktop\\\\_robot_dane_operator\\\\wyniki.xlsx\")"
   ]
  },
  {
   "cell_type": "code",
   "execution_count": 8,
   "id": "6afcf0cb",
   "metadata": {},
   "outputs": [],
   "source": [
    "df = df.drop([0], axis=0)"
   ]
  },
  {
   "cell_type": "code",
   "execution_count": 9,
   "id": "981c299d",
   "metadata": {},
   "outputs": [],
   "source": [
    "df[\"Nr obserwacji\"] = np.arange(1, 31)"
   ]
  },
  {
   "cell_type": "code",
   "execution_count": 10,
   "id": "b2aedbd7",
   "metadata": {},
   "outputs": [
    {
     "data": {
      "text/html": [
       "<div>\n",
       "<style scoped>\n",
       "    .dataframe tbody tr th:only-of-type {\n",
       "        vertical-align: middle;\n",
       "    }\n",
       "\n",
       "    .dataframe tbody tr th {\n",
       "        vertical-align: top;\n",
       "    }\n",
       "\n",
       "    .dataframe thead th {\n",
       "        text-align: right;\n",
       "    }\n",
       "</style>\n",
       "<table border=\"1\" class=\"dataframe\">\n",
       "  <thead>\n",
       "    <tr style=\"text-align: right;\">\n",
       "      <th></th>\n",
       "      <th>Nr obserwacji</th>\n",
       "      <th>Operator 1</th>\n",
       "      <th>Unnamed: 2</th>\n",
       "      <th>Operator 2</th>\n",
       "      <th>Unnamed: 4</th>\n",
       "      <th>Operator 3</th>\n",
       "      <th>Unnamed: 6</th>\n",
       "      <th>Operator 4</th>\n",
       "      <th>Unnamed: 8</th>\n",
       "      <th>Operator 5</th>\n",
       "      <th>Unnamed: 10</th>\n",
       "    </tr>\n",
       "  </thead>\n",
       "  <tbody>\n",
       "    <tr>\n",
       "      <th>1</th>\n",
       "      <td>1</td>\n",
       "      <td>167</td>\n",
       "      <td>98</td>\n",
       "      <td>85</td>\n",
       "      <td>121</td>\n",
       "      <td>148</td>\n",
       "      <td>130</td>\n",
       "      <td>168</td>\n",
       "      <td>171</td>\n",
       "      <td>174</td>\n",
       "      <td>117</td>\n",
       "    </tr>\n",
       "    <tr>\n",
       "      <th>2</th>\n",
       "      <td>2</td>\n",
       "      <td>138</td>\n",
       "      <td>83</td>\n",
       "      <td>102</td>\n",
       "      <td>128</td>\n",
       "      <td>164</td>\n",
       "      <td>123</td>\n",
       "      <td>208</td>\n",
       "      <td>146</td>\n",
       "      <td>156</td>\n",
       "      <td>73</td>\n",
       "    </tr>\n",
       "    <tr>\n",
       "      <th>3</th>\n",
       "      <td>3</td>\n",
       "      <td>101</td>\n",
       "      <td>105</td>\n",
       "      <td>108</td>\n",
       "      <td>133</td>\n",
       "      <td>168</td>\n",
       "      <td>114</td>\n",
       "      <td>184</td>\n",
       "      <td>132</td>\n",
       "      <td>174</td>\n",
       "      <td>115</td>\n",
       "    </tr>\n",
       "    <tr>\n",
       "      <th>4</th>\n",
       "      <td>4</td>\n",
       "      <td>120</td>\n",
       "      <td>111</td>\n",
       "      <td>78</td>\n",
       "      <td>116</td>\n",
       "      <td>171</td>\n",
       "      <td>119</td>\n",
       "      <td>207</td>\n",
       "      <td>145</td>\n",
       "      <td>164</td>\n",
       "      <td>115</td>\n",
       "    </tr>\n",
       "    <tr>\n",
       "      <th>5</th>\n",
       "      <td>5</td>\n",
       "      <td>135</td>\n",
       "      <td>101</td>\n",
       "      <td>85</td>\n",
       "      <td>110</td>\n",
       "      <td>147</td>\n",
       "      <td>110</td>\n",
       "      <td>201</td>\n",
       "      <td>139</td>\n",
       "      <td>163</td>\n",
       "      <td>120</td>\n",
       "    </tr>\n",
       "  </tbody>\n",
       "</table>\n",
       "</div>"
      ],
      "text/plain": [
       "   Nr obserwacji Operator 1 Unnamed: 2 Operator 2 Unnamed: 4 Operator 3  \\\n",
       "1              1        167         98         85        121        148   \n",
       "2              2        138         83        102        128        164   \n",
       "3              3        101        105        108        133        168   \n",
       "4              4        120        111         78        116        171   \n",
       "5              5        135        101         85        110        147   \n",
       "\n",
       "  Unnamed: 6 Operator 4 Unnamed: 8 Operator 5 Unnamed: 10  \n",
       "1        130        168        171        174         117  \n",
       "2        123        208        146        156          73  \n",
       "3        114        184        132        174         115  \n",
       "4        119        207        145        164         115  \n",
       "5        110        201        139        163         120  "
      ]
     },
     "execution_count": 10,
     "metadata": {},
     "output_type": "execute_result"
    }
   ],
   "source": [
    "df.head()"
   ]
  },
  {
   "cell_type": "code",
   "execution_count": 11,
   "id": "6086d44e",
   "metadata": {},
   "outputs": [],
   "source": [
    "operator1 = df[[\"Nr obserwacji\", \"Operator 1\", \"Unnamed: 2\"]]\n",
    "operator1.columns = ([\"Nr obserwacji\", \"X\", \"Y\"])"
   ]
  },
  {
   "cell_type": "code",
   "execution_count": 12,
   "id": "0e43b56c",
   "metadata": {},
   "outputs": [],
   "source": [
    "operator2 = df[[\"Nr obserwacji\", \"Operator 2\", \"Unnamed: 4\"]]\n",
    "operator2.columns = ([\"Nr obserwacji\", \"X\", \"Y\"])"
   ]
  },
  {
   "cell_type": "code",
   "execution_count": 13,
   "id": "a254d9da",
   "metadata": {},
   "outputs": [],
   "source": [
    "operator3 = df[[\"Nr obserwacji\", \"Operator 3\", \"Unnamed: 6\"]]\n",
    "operator3.columns = ([\"Nr obserwacji\", \"X\", \"Y\"])"
   ]
  },
  {
   "cell_type": "code",
   "execution_count": 14,
   "id": "98067c09",
   "metadata": {},
   "outputs": [],
   "source": [
    "operator4 = df[[\"Nr obserwacji\", \"Operator 4\", \"Unnamed: 8\"]]\n",
    "operator4.columns = ([\"Nr obserwacji\", \"X\", \"Y\"])"
   ]
  },
  {
   "cell_type": "code",
   "execution_count": 15,
   "id": "7383e833",
   "metadata": {},
   "outputs": [],
   "source": [
    "operator5 = df[[\"Nr obserwacji\", \"Operator 5\", \"Unnamed: 10\"]]\n",
    "operator5.columns = ([\"Nr obserwacji\", \"X\", \"Y\"])"
   ]
  },
  {
   "cell_type": "code",
   "execution_count": 16,
   "id": "6f2965c5",
   "metadata": {},
   "outputs": [],
   "source": [
    "operators = [operator1, operator2, operator3, operator4, operator5]"
   ]
  },
  {
   "cell_type": "code",
   "execution_count": 17,
   "id": "23e1e9bb",
   "metadata": {},
   "outputs": [],
   "source": [
    "def predict_y(data, test_size):\n",
    "    X = data.drop(\"Y\", axis=1)\n",
    "    y = data[\"Y\"]\n",
    "    \n",
    "    poly_converter = PolynomialFeatures(degree=3, include_bias=False)\n",
    "    poly_converter.fit(X)\n",
    "    poly_features = poly_converter.transform(X)\n",
    "    \n",
    "    X_train, X_test, y_train, y_test = train_test_split(poly_features, y, test_size=test_size, random_state=42)\n",
    "    \n",
    "    scaler = StandardScaler()\n",
    "    X_train = scaler.fit_transform(X_train)\n",
    "    X_test = scaler.transform(X_test)\n",
    "    \n",
    "    model = LinearRegression()\n",
    "    model.fit(X_train, y_train)\n",
    "    pred_y = model.predict(X_test)\n",
    "    \n",
    "    rmse = np.sqrt(mean_squared_error(y_test, pred_y))\n",
    "    \n",
    "    \n",
    "    \n",
    "    return pred_y"
   ]
  },
  {
   "cell_type": "code",
   "execution_count": 18,
   "id": "db2babbf",
   "metadata": {},
   "outputs": [],
   "source": [
    "def predict_x(data, test_size):\n",
    "    X = data.drop(\"X\", axis=1)\n",
    "    y = data[\"X\"]\n",
    "    \n",
    "    poly_converter = PolynomialFeatures(degree=3, include_bias=False)\n",
    "    poly_converter.fit(X)\n",
    "    poly_features = poly_converter.transform(X)\n",
    "    \n",
    "    X_train, X_test, y_train, y_test = train_test_split(poly_features, y, test_size=test_size, random_state=42)\n",
    "    \n",
    "    scaler = StandardScaler()\n",
    "    X_train = scaler.fit_transform(X_train)\n",
    "    X_test = scaler.transform(X_test)\n",
    "    \n",
    "    model = LinearRegression()\n",
    "    model.fit(X_train, y_train)\n",
    "    pred_x = model.predict(X_test)\n",
    "    \n",
    "    rmse = np.sqrt(mean_squared_error(y_test, pred_x))\n",
    "    \n",
    "    \n",
    "    \n",
    "    return pred_x"
   ]
  },
  {
   "cell_type": "code",
   "execution_count": 19,
   "id": "d8e1e571",
   "metadata": {},
   "outputs": [
    {
     "name": "stdout",
     "output_type": "stream",
     "text": [
      "[array([223.12274989, 172.32302086, 180.83528608, 184.45074928,\n",
      "       157.20907594, 165.75194039]), array([109.03907151, 108.86235816, 110.99206522, 106.27053404,\n",
      "       110.52188516, 112.37116021])]\n",
      "[array([ 79.13185989,  98.62813821,  99.71171177, 112.5726261 ,\n",
      "        93.46799222,  94.81932579]), array([ 88.63139524, 131.65273836, 104.65553401, 110.84897563,\n",
      "       115.14155972, 113.62237152])]\n",
      "[array([178.95305044, 136.16787898, 141.95734259, 157.1543096 ,\n",
      "       158.66918395, 146.25358671]), array([ 39.33585636,  99.97293702,  94.74382695, 103.09173287,\n",
      "        99.03244903, 101.15408048])]\n",
      "[array([-226.13333968,  213.09275043,  228.89685416,  203.92519865,\n",
      "        207.01068355,  210.50911527]), array([110.82479789, 134.78585839, 109.17744627, 128.92300231,\n",
      "       145.09528083, 149.57184094])]\n",
      "[array([180.9511832 , 163.40927513, 174.65923591, 167.54510011,\n",
      "       158.53002357, 170.09955582]), array([100.5685526 , 100.36997653, 123.75857666, 101.41184389,\n",
      "       108.91243394, 112.8920968 ])]\n"
     ]
    }
   ],
   "source": [
    "sizes = [0.1, 0.16, 0.33]\n",
    "pred_results = []\n",
    "pred_results = pd.DataFrame(pred_results)\n",
    "x = 1\n",
    "for operator in operators:\n",
    "    predict_y(operator, 0.2)\n",
    "    pred_results[f\"X{x}\"] = predict_x(operator, 0.2)\n",
    "    pred_results[f\"Y{x}\"] = predict_y(operator, 0.2)\n",
    "    print([predict_x(operator, 0.2), predict_y(operator,0.2)])"
   ]
  },
  {
   "cell_type": "code",
   "execution_count": 23,
   "id": "766bc503",
   "metadata": {},
   "outputs": [
    {
     "name": "stdout",
     "output_type": "stream",
     "text": [
      "[array([226.43291757, 172.52008565, 179.06079401]), array([110.49952858, 109.76374085, 111.31448242])]\n",
      "[array([225.23872356, 172.40320056, 180.53067338, 184.77767978,\n",
      "       158.87748097]), array([108.60153458, 109.02816431, 110.93728085, 106.29506773,\n",
      "       110.66478322])]\n",
      "[array([242.20894473, 175.85389065, 176.502947  , 171.33193673,\n",
      "       167.17262823, 172.25715796, 213.76506931, 183.59353942,\n",
      "       177.70553418,  78.11555682]), array([113.33762571, 109.63806933, 105.9681561 , 111.96457477,\n",
      "       100.13312455, 112.31976244, 135.22577485, 109.59120497,\n",
      "       118.08972953,  15.12751196])]\n",
      "[array([ 80.57267821,  97.10586038, 101.45787666]), array([ 88.77777673, 133.55650001, 104.6389071 ])]\n",
      "[array([ 79.04677744,  98.54210077,  99.60382861, 112.81138037,\n",
      "        93.74653049]), array([ 88.70894488, 131.92757799, 104.91529289, 110.48549512,\n",
      "       114.04133031])]\n",
      "[array([ 56.35844317, 135.98178886, 106.17110372, 123.36540313,\n",
      "        76.41081979,  82.19578956, -24.71171098,  81.38393844,\n",
      "       194.22548847, 114.93246867]), array([ 74.60241058, 136.23139879,  88.52688638, 113.40142692,\n",
      "       109.47722411, 109.55852052,  80.50724912,  91.93012432,\n",
      "       106.03273483, 102.47047717])]\n",
      "[array([177.0698309 , 134.16974934, 146.21724451]), array([ 45.70455724, 101.43805146,  92.37356568])]\n",
      "[array([178.95689544, 133.67982343, 142.62777928, 157.35432755,\n",
      "       158.53849481]), array([ 43.9082408 , 101.30943637,  93.26207663, 101.78361258,\n",
      "       100.87484029])]\n",
      "[array([-13.22607396, 153.1525927 , 147.46313729, 159.86001487,\n",
      "       160.10880105, 155.06131078,  54.18465534,  35.56050899,\n",
      "       127.56574443, 172.81354461]), array([ 79.86490971, 100.32951169, 101.96175925, 106.74059849,\n",
      "       102.58458871, 103.6901443 ,  81.10035   ,  95.657213  ,\n",
      "       106.01867138, 126.36528416])]\n",
      "[array([155.01644404, 215.26744768, 227.905556  ]), array([109.9240992 , 134.31540231, 110.08570912])]\n",
      "[array([-258.01039148,  213.58561888,  228.97569981,  203.75954912,\n",
      "        207.51497042]), array([110.20389904, 132.12292594, 109.3720349 , 126.60603986,\n",
      "       144.08637048])]\n",
      "[array([1648.02146775,  205.10033674,  239.41147434,  201.49036224,\n",
      "        206.30897587,  203.88654114,  205.61731982,  283.85364436,\n",
      "        199.00427092,  178.59639943]), array([111.26354558, 134.28680941, 110.80985839, 126.708547  ,\n",
      "       143.58412768, 148.99832739, 109.53124875, 110.35037649,\n",
      "       138.58655782, 129.53996456])]\n",
      "[array([178.78382465, 168.10759068, 173.87257288]), array([100.21537686, 103.28804672, 125.29988009])]\n",
      "[array([181.23825532, 162.10161692, 175.16227813, 166.81274632,\n",
      "       156.33650769]), array([100.46364798, 100.15424063, 123.39894136, 101.08977285,\n",
      "       109.258265  ])]\n",
      "[array([182.49874317, 165.43532031, 172.8344782 , 168.02987196,\n",
      "       161.34109924, 172.05854616, 176.19417481, 174.36967802,\n",
      "       177.38960039, 160.70305104]), array([ 97.15028394,  95.29277586, 127.39303677,  97.44157247,\n",
      "       106.2664348 , 113.91666172,  89.21152326, 104.61830309,\n",
      "        91.71663737, 129.22594109])]\n"
     ]
    }
   ],
   "source": [
    "sizes = [0.1, 0.16, 0.33]\n",
    "pred_results = []\n",
    "pred_results = pd.DataFrame(pred_results)\n",
    "x = 1\n",
    "for operator in operators:\n",
    "    for size in sizes:\n",
    "        predict_y(operator, size)\n",
    "        #pred_results[f\"X{x}\"] = predict_x(operator, size)\n",
    "        #pred_results[f\"Y{x}\"] = predict_y(operator, size)\n",
    "        #print([predict_x(operator, size), predict_y(operator,size)])\n",
    "    \n"
   ]
  },
  {
   "cell_type": "code",
   "execution_count": 58,
   "id": "9394ead8",
   "metadata": {},
   "outputs": [],
   "source": [
    "pred_results.to_excel(\"C:\\\\Users\\\\stadn\\\\Desktop\\\\_robot_dane_operator\\\\predictions.xlsx\")"
   ]
  },
  {
   "cell_type": "code",
   "execution_count": 59,
   "id": "e47ea235",
   "metadata": {},
   "outputs": [],
   "source": [
    "def predict_y(data, regressor):\n",
    "    X = data.drop(\"Y\", axis=1)\n",
    "    y = data[\"Y\"]\n",
    "    \n",
    "    if regressor == \"polynomial\":\n",
    "        from sklearn.preprocessing import PolynomialFeatures\n",
    "        poly_converter = PolynomialFeatures(degree=3, include_bias=False)\n",
    "        poly_converter.fit(X)\n",
    "        poly_features = poly_converter.transform(X)\n",
    "    \n",
    "        from sklearn.model_selection import train_test_split\n",
    "        X_train, X_test, y_train, y_test = train_test_split(poly_features, y, test_size=0.2, random_state=42)\n",
    "    \n",
    "        from sklearn.preprocessing import StandardScaler\n",
    "        scaler = StandardScaler()\n",
    "        X_train = scaler.fit_transform(X_train)\n",
    "        X_test = scaler.transform(X_test)\n",
    "    \n",
    "        from sklearn.linear_model import LinearRegression\n",
    "        model = LinearRegression()\n",
    "        model.fit(X_train, y_train)\n",
    "        pred_y = model.predict(X_test)\n",
    "    \n",
    "        from sklearn.metrics import mean_squared_error\n",
    "        rmse = np.sqrt(mean_squared_error(y_test, pred_y))\n",
    "        \n",
    "    else:\n",
    "        from sklearn.model_selection import train_test_split\n",
    "        X_train, X_test, y_train, y_test = train_test_split(X, y, test_size=0.2, random_state=42)\n",
    "        \n",
    "        from sklearn.preprocessing import StandardScaler\n",
    "        scaler = StandardScaler()\n",
    "        X_train = scaler.fit_transform(X_train)\n",
    "        X_test = scaler.transform(X_test)\n",
    "    \n",
    "    \n",
    "    if regressor == \"linear\":\n",
    "        from sklearn.linear_model import LinearRegression\n",
    "        model = LinearRegression()\n",
    "        model.fit(X_train, y_train)\n",
    "        pred_y = model.predict(X_test)\n",
    "        \n",
    "        from sklearn.metrics import mean_squared_error\n",
    "        rmse = np.sqrt(mean_squared_error(y_test, pred_y))\n",
    "        \n",
    "    elif regressor == \"svr\":\n",
    "        from sklearn.svm import SVR\n",
    "        model = SVR()\n",
    "        model.fit(X_train, y_train)\n",
    "        pred_y = model.predict(X_test)\n",
    "        \n",
    "        from sklearn.metrics import mean_squared_error\n",
    "        rmse = np.sqrt(mean_squared_error(y_test, pred_y))\n",
    "        \n",
    "    return rmse"
   ]
  },
  {
   "cell_type": "code",
   "execution_count": 65,
   "id": "a753d330",
   "metadata": {},
   "outputs": [
    {
     "name": "stdout",
     "output_type": "stream",
     "text": [
      "11.5745986027087\n",
      "16.252748294883954\n",
      "11.885675392032066\n",
      "9.525612774487563\n",
      "14.866398503167913\n",
      "11.32021653365787\n",
      "14.255617785020823\n",
      "12.99188531927763\n",
      "22.25508231435714\n",
      "44.32485625786355\n",
      "45.43807093137654\n",
      "52.843177971674706\n",
      "12.729119716365878\n",
      "9.220055845594018\n",
      "5.460220513297156\n"
     ]
    }
   ],
   "source": [
    "regressors = [\"polynomial\", \"linear\", \"svr\"]\n",
    "pred_results = []\n",
    "pred_results = pd.DataFrame(pred_results)\n",
    "x = 1\n",
    "for operator in operators:\n",
    "    for regressor in regressors:\n",
    "        predict_y(operator, regressor)\n",
    "        #pred_results[f\"X{x}\"] = predict_x(operator)\n",
    "        #pred_results[f\"Y{x}\"] = predict_y(operator, regressor)\n",
    "        print(predict_y(operator, regressor))\n",
    "        x += 1"
   ]
  },
  {
   "cell_type": "code",
   "execution_count": 63,
   "id": "0e705fe7",
   "metadata": {},
   "outputs": [
    {
     "data": {
      "text/html": [
       "<div>\n",
       "<style scoped>\n",
       "    .dataframe tbody tr th:only-of-type {\n",
       "        vertical-align: middle;\n",
       "    }\n",
       "\n",
       "    .dataframe tbody tr th {\n",
       "        vertical-align: top;\n",
       "    }\n",
       "\n",
       "    .dataframe thead th {\n",
       "        text-align: right;\n",
       "    }\n",
       "</style>\n",
       "<table border=\"1\" class=\"dataframe\">\n",
       "  <thead>\n",
       "    <tr style=\"text-align: right;\">\n",
       "      <th></th>\n",
       "    </tr>\n",
       "  </thead>\n",
       "  <tbody>\n",
       "  </tbody>\n",
       "</table>\n",
       "</div>"
      ],
      "text/plain": [
       "Empty DataFrame\n",
       "Columns: []\n",
       "Index: []"
      ]
     },
     "execution_count": 63,
     "metadata": {},
     "output_type": "execute_result"
    }
   ],
   "source": [
    "pred_results"
   ]
  },
  {
   "cell_type": "code",
   "execution_count": null,
   "id": "31c7a9a6",
   "metadata": {},
   "outputs": [],
   "source": []
  }
 ],
 "metadata": {
  "kernelspec": {
   "display_name": "Python 3 (ipykernel)",
   "language": "python",
   "name": "python3"
  },
  "language_info": {
   "codemirror_mode": {
    "name": "ipython",
    "version": 3
   },
   "file_extension": ".py",
   "mimetype": "text/x-python",
   "name": "python",
   "nbconvert_exporter": "python",
   "pygments_lexer": "ipython3",
   "version": "3.9.13"
  }
 },
 "nbformat": 4,
 "nbformat_minor": 5
}
